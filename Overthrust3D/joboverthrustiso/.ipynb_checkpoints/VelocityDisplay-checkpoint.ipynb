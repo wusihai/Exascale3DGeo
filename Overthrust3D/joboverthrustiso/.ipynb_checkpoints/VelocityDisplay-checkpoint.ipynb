{
 "cells": [
  {
   "cell_type": "code",
   "execution_count": 1,
   "metadata": {},
   "outputs": [],
   "source": [
    "import numpy as np\n",
    "import matplotlib.pyplot as plt\n",
    "from scipy import ndimage, misc\n",
    "import sys\n",
    "nx=801\n",
    "ny=801\n",
    "nz=187\n",
    "nt=2000\n",
    "dx=dy=dz=25\n",
    "dt=0.00033\n",
    "\n",
    "def readfile(filename,n1=nx,n2=ny,n3=nz):\n",
    "    f=open(filename)\n",
    "    data=np.fromfile(f,dtype='float32')\n",
    "    data=data.reshape((n1,n2,n3))\n",
    "    return data\n",
    "\n",
    "def imagesc(data,scale):\n",
    "    nx,nz=np.shape(data)\n",
    "    plt.imshow(data.T,vmin=scale*np.min(data),vmax=scale*np.max(data),extent=(0,nx*dx,0,nz*dx),aspect='auto', origin='lower',cmap='seismic')\n",
    "    plt.colorbar()\n",
    "    plt.gca().invert_yaxis() \n",
    "    plt.xlabel('distance(m)',fontsize=10)\n",
    "    plt.ylabel('depth(m)',fontsize=10)\n",
    "    plt.show()    \n",
    "def plotseis(data,scale):\n",
    "    nx,nz=np.shape(data)\n",
    "    plt.imshow(data.T,vmin=scale*np.min(data),vmax=scale*np.max(data),extent=(0,nx*dx,0,nz*dt),aspect='auto', origin='lower',cmap='seismic')\n",
    "    plt.colorbar()\n",
    "    plt.gca().invert_yaxis() \n",
    "    plt.xlabel('distance(m)',fontsize=10)\n",
    "    plt.ylabel('Time(s)',fontsize=10)\n",
    "    plt.show() "
   ]
  },
  {
   "cell_type": "code",
   "execution_count": 50,
   "metadata": {},
   "outputs": [],
   "source": [
    "#读取模型\n",
    "vel=readfile('model/vp_801_801_187.dat',nx,ny,nz)\n",
    "eps=readfile('model/eps_801_801_187.dat',nx,ny,nz)\n",
    "delta=readfile('model/delta_801_801_187.dat',nx,ny,nz)"
   ]
  },
  {
   "cell_type": "code",
   "execution_count": null,
   "metadata": {},
   "outputs": [],
   "source": [
    "#展示模型\n",
    "eps=ndimage.gaussian_filter(vel,(15,15,15))\n",
    "eps=eps/np.max(eps)*0.1\n",
    "delta=ndimage.gaussian_filter(vel,(25,25,25))\n",
    "delta=delta/np.max(delta)*0.02\n",
    "imagesc(eps[int(nx/2),:,:],scale=1)\n",
    "imagesc(eps[:,int(ny/2),:],scale=1)\n",
    "imagesc(eps[:,:,int(nz/2)],scale=1)\n",
    "# imagesc(delta[int(nx/2),:,:],scale=1)\n",
    "# imagesc(delta[:,int(ny/2),:],scale=1)\n",
    "# imagesc(delta[:,:,int(nz/2)],scale=1)\n",
    "# eps.tofile('./model/vtieps_801_801_187.dat')\n",
    "# delta.tofile('./model/vtidelta_801_801_187.dat')\n",
    "# vel[int(nx/2),:,:].tofile('vpslice.dat')"
   ]
  },
  {
   "cell_type": "code",
   "execution_count": 2,
   "metadata": {},
   "outputs": [],
   "source": [
    "import pyvista as pv\n",
    "# pv.set_jupyter_backend('ipyvtklink')\n",
    "from pyvista import demos\n",
    "pv.set_jupyter_backend('ipygany')"
   ]
  },
  {
   "cell_type": "code",
   "execution_count": 57,
   "metadata": {
    "scrolled": true
   },
   "outputs": [
    {
     "name": "stdout",
     "output_type": "stream",
     "text": [
      "(161, 161, 38)\n"
     ]
    }
   ],
   "source": [
    "values=vel[::5,::5,::5]\n",
    "grid = pv.UniformGrid()\n",
    "grid.dimensions = values.shape\n",
    "grid.origin = (0,0,0)  \n",
    "grid.spacing = (1,1,1)  \n",
    "grid.point_arrays[\"values\"] = values.flatten(order=\"F\")  \n",
    "# grid.plot(show_edges=True)\n",
    "print(values.shape)\n",
    "dataset=grid\n",
    "nnx=values.shape[0]\n",
    "nny=values.shape[1]\n",
    "nnz=values.shape[2]"
   ]
  },
  {
   "cell_type": "code",
   "execution_count": 58,
   "metadata": {},
   "outputs": [
    {
     "data": {
      "application/vnd.jupyter.widget-view+json": {
       "model_id": "a5a5248bdc984627b9d1bdf00fad3708",
       "version_major": 2,
       "version_minor": 0
      },
      "text/plain": [
       "AppLayout(children=(VBox(children=(HTML(value='<h3>values</h3>'), Dropdown(description='Colormap:', options={'…"
      ]
     },
     "metadata": {},
     "output_type": "display_data"
    }
   ],
   "source": [
    "# bounds = [0,int(nnx/2),0,int(nny/2),0,int(nnz/2)]\n",
    "# bounds = [0,int(nnx/2),int(nny/2),nny,0,int(nnz/2)]\n",
    "bounds = [int(nnx/2),nnx,0,int(nny/2),0,int(nnz/2)]\n",
    "clipped = dataset.clip_box(bounds)\n",
    "p = pv.Plotter()\n",
    "p.add_mesh(dataset, style='wireframe', color='blue', label='Input')\n",
    "p.add_mesh(clipped, label='Clipped')\n",
    "p.add_legend()\n",
    "p.show()"
   ]
  },
  {
   "cell_type": "code",
   "execution_count": 24,
   "metadata": {},
   "outputs": [],
   "source": [
    "plt.rcParams[\"figure.figsize\"] = [8,2]\n",
    "cmap = plt.cm.get_cmap(\"viridis\", 4)"
   ]
  },
  {
   "cell_type": "code",
   "execution_count": 26,
   "metadata": {},
   "outputs": [
    {
     "data": {
      "application/vnd.jupyter.widget-view+json": {
       "model_id": "a9f16e5320dd4174953bf9659675fbba",
       "version_major": 2,
       "version_minor": 0
      },
      "text/plain": [
       "AppLayout(children=(VBox(children=(HTML(value='<h3>values</h3>'), Dropdown(description='Colormap:', options={'…"
      ]
     },
     "metadata": {},
     "output_type": "display_data"
    }
   ],
   "source": []
  },
  {
   "cell_type": "code",
   "execution_count": null,
   "metadata": {},
   "outputs": [],
   "source": []
  },
  {
   "cell_type": "code",
   "execution_count": null,
   "metadata": {},
   "outputs": [],
   "source": []
  },
  {
   "cell_type": "code",
   "execution_count": null,
   "metadata": {},
   "outputs": [],
   "source": []
  }
 ],
 "metadata": {
  "kernelspec": {
   "display_name": "Python 3",
   "language": "python",
   "name": "python3"
  },
  "language_info": {
   "codemirror_mode": {
    "name": "ipython",
    "version": 3
   },
   "file_extension": ".py",
   "mimetype": "text/x-python",
   "name": "python",
   "nbconvert_exporter": "python",
   "pygments_lexer": "ipython3",
   "version": "3.8.8"
  }
 },
 "nbformat": 4,
 "nbformat_minor": 4
}
